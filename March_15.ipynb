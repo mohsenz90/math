{
 "cells": [
  {
   "cell_type": "code",
   "execution_count": 5,
   "id": "1c8497e3-ea84-4b67-b35d-91fb9ac9e666",
   "metadata": {},
   "outputs": [
    {
     "name": "stdin",
     "output_type": "stream",
     "text": [
      "enter a positive integer 3\n"
     ]
    },
    {
     "name": "stdout",
     "output_type": "stream",
     "text": [
      "3 != 6\n"
     ]
    }
   ],
   "source": [
    "#factorial function\n",
    "#not the cleanest but does the job\n",
    "F = 1\n",
    "i = 1\n",
    "n = int(input('enter a positive integer'))\n",
    "\n",
    "if n == 0:\n",
    "    print('0!=1')\n",
    "    exit()\n",
    "else:\n",
    "    while i <= n:\n",
    "        F = F*i\n",
    "        i+=1\n",
    "\n",
    "if n!=0:\n",
    "    print(n,'!=',F)\n"
   ]
  },
  {
   "cell_type": "code",
   "execution_count": null,
   "id": "d7198055-3f08-4635-9514-1feae3d5363e",
   "metadata": {},
   "outputs": [],
   "source": []
  }
 ],
 "metadata": {
  "kernelspec": {
   "display_name": "Python [conda env:base] *",
   "language": "python",
   "name": "conda-base-py"
  },
  "language_info": {
   "codemirror_mode": {
    "name": "ipython",
    "version": 3
   },
   "file_extension": ".py",
   "mimetype": "text/x-python",
   "name": "python",
   "nbconvert_exporter": "python",
   "pygments_lexer": "ipython3",
   "version": "3.12.7"
  }
 },
 "nbformat": 4,
 "nbformat_minor": 5
}
